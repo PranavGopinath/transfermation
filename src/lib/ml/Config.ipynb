{
 "cells": [
  {
   "cell_type": "code",
   "execution_count": null,
   "id": "5ac9ba7d-72ea-434e-b0dd-5579968257a5",
   "metadata": {},
   "outputs": [
    {
     "data": {
      "text/plain": [
       "{'target': 'points',\n",
       " 'timing': 'preseason',\n",
       " 'seasons': ['2021-2022', '2022-2023', '2023-2024', '2024-2025'],\n",
       " 'seed': 42,\n",
       " 'paths': {'raw': '/home/pranav/transfermation/src/lib/ml/data/raw',\n",
       "  'processed': '/home/pranav/transfermation/src/lib/ml/data/processed',\n",
       "  'models': '/home/pranav/transfermation/src/lib/ml/models/v1'}}"
      ]
     },
     "execution_count": 1,
     "metadata": {},
     "output_type": "execute_result"
    }
   ],
   "source": [
    "from pathlib import Path\n",
    "import os, random\n",
    "import numpy as np\n",
    "PROJECT = Path.cwd().resolve()\n",
    "DATA_RAW = PROJECT / \"data\" / \"raw\"\n",
    "DATA_PROCESSED = PROJECT / \"data\" / \"processed\"\n",
    "MODELS_DIR = PROJECT / \"models\" / \"v1\"\n",
    "\n",
    "for p in (DATA_RAW, DATA_PROCESSED, MODELS_DIR):\n",
    "    p.mkdir(parents=True, exist_ok=True)\n",
    "\n",
    "SEASONS = [\"2021-2022\",\"2022-2023\",\"2023-2024\", \"2024-2025\"]\n",
    "TARGET = \"points\"          \n",
    "PREDICTION_TIMING = \"preseason\"   \n",
    "\n",
    "RANDOM_SEED = 42\n",
    "np.random.seed(RANDOM_SEED)\n",
    "random.seed(RANDOM_SEED)\n",
    "\n",
    "CFG = {\n",
    "    \"target\": TARGET,\n",
    "    \"timing\": PREDICTION_TIMING,\n",
    "    \"seasons\": SEASONS,\n",
    "    \"seed\": RANDOM_SEED,\n",
    "    \"paths\": {\"raw\": str(DATA_RAW), \"processed\": str(DATA_PROCESSED), \"models\": str(MODELS_DIR)},\n",
    "}\n",
    "CFG"
   ]
  },
  {
   "cell_type": "code",
   "execution_count": null,
   "id": "e904e943-fef6-4bce-b0ea-b855471f4b5b",
   "metadata": {},
   "outputs": [
    {
     "name": "stdout",
     "output_type": "stream",
     "text": [
      "Setup OK\n"
     ]
    }
   ],
   "source": [
    "import warnings, pandas as pd\n",
    "warnings.filterwarnings(\"ignore\", category=FutureWarning)\n",
    "warnings.filterwarnings(\"ignore\", category=UserWarning)\n",
    "\n",
    "pd.set_option(\"display.width\", 140)\n",
    "pd.set_option(\"display.max_columns\", 80)\n",
    "pd.set_option(\"display.max_rows\", 120)\n",
    "pd.options.mode.copy_on_write = True\n",
    "\n",
    "import matplotlib.pyplot as plt\n",
    "plt.rcParams[\"figure.figsize\"] = (8, 5)\n",
    "\n",
    "print(\"Setup OK\")"
   ]
  }
 ],
 "metadata": {
  "kernelspec": {
   "display_name": "transfermation",
   "language": "python",
   "name": "transfermation"
  },
  "language_info": {
   "codemirror_mode": {
    "name": "ipython",
    "version": 3
   },
   "file_extension": ".py",
   "mimetype": "text/x-python",
   "name": "python",
   "nbconvert_exporter": "python",
   "pygments_lexer": "ipython3",
   "version": "3.12.3"
  }
 },
 "nbformat": 4,
 "nbformat_minor": 5
}
